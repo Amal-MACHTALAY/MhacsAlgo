{
 "cells": [
  {
   "cell_type": "markdown",
   "metadata": {},
   "source": [
    "# KRYLOV Subspace Methods for solving linear systems `Ax=b`\n",
    "\n",
    "by **Amal MACHTALAY**"
   ]
  },
  {
   "cell_type": "markdown",
   "metadata": {},
   "source": [
    "### Imports"
   ]
  },
  {
   "cell_type": "code",
   "execution_count": 1,
   "metadata": {},
   "outputs": [],
   "source": [
    "import numpy as np"
   ]
  },
  {
   "cell_type": "markdown",
   "metadata": {
    "id": "KsW8hWpo3OBg"
   },
   "source": [
    "## The Steepest Descent algorithm\n",
    "\n",
    "- Set $x_{0}$ and $r_{0}=b-Ax_{0}$\n",
    "- **For** $i=1,2,...,N$\n",
    "   1. $\\alpha_{i}=\\frac{\\left \\langle r_{i} , r_{i} \\right \\rangle}{\\left \\langle A r_{i},r_{i} \\right \\rangle}$  \n",
    "   2. $x_{i+1}=x_{i}+\\alpha_{i} r_{i}$\n",
    "   3. $r_{i+1}=r_{i}-\\alpha_{i} A r_{i}$\n",
    "   4. Stop the iteration when :\n",
    "$\\left \\| r_{i} \\right \\| \\leq \\varepsilon $.\n",
    "Where, e.g., $\\varepsilon = 1e-8$\n",
    "- **EndFor**"
   ]
  },
  {
   "cell_type": "code",
   "execution_count": 2,
   "metadata": {
    "id": "CwvTCGDH3W6e"
   },
   "outputs": [],
   "source": [
    "def Stepseet(A,b,x0,N,e):\n",
    "  r=np.copy(b)-np.asarray(np.dot(A,x0)).reshape(-1)\n",
    "  x=[]\n",
    "  x.append(x0)\n",
    "  for i in range(N):\n",
    "    w=np.asarray(np.dot(A,r)).reshape(-1)\n",
    "    alpha=np.dot(r,r)/np.dot(w,r)\n",
    "    x0=x0+alpha*r\n",
    "    r=r-alpha*w\n",
    "    if np.linalg.norm(r)<=e:\n",
    "        break\n",
    "    x.append(x0)\n",
    "  return x,i"
   ]
  },
  {
   "cell_type": "markdown",
   "metadata": {},
   "source": [
    "### Test"
   ]
  },
  {
   "cell_type": "code",
   "execution_count": 45,
   "metadata": {},
   "outputs": [
    {
     "name": "stdout",
     "output_type": "stream",
     "text": [
      "The steepest discret algorithm converges in  19  iterations\n",
      "x= [1.38461539 0.53846154]\n"
     ]
    }
   ],
   "source": [
    "A=np.matrix('1. 3.;3. -4.')\n",
    "b=np.array([3.,2.])\n",
    "x0=np.array([0.,0.])  \n",
    "x,i=Stepseet(A,b,x0,50,1e-8)\n",
    "print(\"The steepest discret algorithm converges in \",i+1,\" iterations\")\n",
    "#print('x=',x)\n",
    "print('x=',x[i])"
   ]
  },
  {
   "cell_type": "markdown",
   "metadata": {
    "id": "YV3BMTJICZ1I"
   },
   "source": [
    "## The Conjugate Gradient algorithm\n",
    "\n",
    "- Set $x_{0}$ and $p_{0}=r_{0}=b-Ax_{0}$\n",
    "- **For** $i=1,2,...,N$\n",
    "   1. $\\alpha_{i}=\\frac{\\left \\langle r_{i} , r_{i} \\right \\rangle}{\\left \\langle A r_{i},r_{i} \\right \\rangle}$  \n",
    "   2. $x_{i+1}=x_{i}+\\alpha_{i} r_{i}$\n",
    "   3. $r_{i+1}=r_{i}-\\alpha_{i} A r_{i}$\n",
    "   4. $\\beta_{i+1}=-\\frac{\\left \\| r_{i+1} \\right \\|^{2}}{\\left \\| r_{i} \\right \\|^{2}}$\n",
    "   5. $p_{i+1}=r_{i+1}+\\beta_{i+1} p_{i}$\n",
    "   6. Stop the iteration when :\n",
    "$\\left \\| r_{i} \\right \\| \\leq \\varepsilon $.\n",
    "Where, e.g., $\\varepsilon = 1e-8$\n",
    "- **EndFor**"
   ]
  },
  {
   "cell_type": "code",
   "execution_count": 4,
   "metadata": {
    "id": "mOJPpFkoCfZQ"
   },
   "outputs": [],
   "source": [
    "def Conjugate(A,b,x0,N,e):\n",
    "  r=np.copy(b)-np.asarray(np.dot(A,x0)).reshape(-1)\n",
    "  p=np.copy(r)\n",
    "  x=[]\n",
    "  x.append(x0)\n",
    "  for i in range(N):\n",
    "    w=np.asarray(np.dot(A,r)).reshape(-1)\n",
    "    alpha=np.dot(r,r)/np.dot(w,r)\n",
    "    x0=x0+alpha*r\n",
    "    beta=1/(np.linalg.norm(r)**2)\n",
    "    r=r-alpha*w\n",
    "    if np.linalg.norm(r)<=e:\n",
    "        break\n",
    "    beta=-beta*(np.linalg.norm(r)**2)\n",
    "    p=r+beta*p\n",
    "    x.append(x0)\n",
    "  return x,i"
   ]
  },
  {
   "cell_type": "markdown",
   "metadata": {},
   "source": [
    "### Test"
   ]
  },
  {
   "cell_type": "code",
   "execution_count": 46,
   "metadata": {},
   "outputs": [
    {
     "name": "stdout",
     "output_type": "stream",
     "text": [
      "The conjugate gradient algorithm converges in  19  iterations\n",
      "x= [1.38461539 0.53846154]\n"
     ]
    }
   ],
   "source": [
    "A=np.matrix('1. 3.;3. -4.')\n",
    "b=np.array([3.,2.])\n",
    "x0=np.array([0.,0.])  \n",
    "x,i=Conjugate(A,b,x0,50,1e-8)\n",
    "print(\"The conjugate gradient algorithm converges in \",i+1,\" iterations\")   \n",
    "#print('x=',x)\n",
    "print('x=',x[i])"
   ]
  },
  {
   "cell_type": "markdown",
   "metadata": {},
   "source": [
    "## The Generalized Minimal Residual (GMRES) algorithm\n",
    "\n",
    "1. Set $x_{0}$ and $r_{0}=b-Ax_{0}$ and $u_{0}=\\frac{r_{0}}{\\left \\| r_{0} \\right \\|_{2}}$\n",
    "2. **for** $i=1,2,...,N$\n",
    "- $w=Au_{i}$ \n",
    "- **for** $j=1,..,i$\n",
    "     - $h_{ji}=\\left \\langle w , u_{j} \\right \\rangle$\n",
    "     - $w=w-h_{ji}u_{j}$\n",
    "- **End for**\n",
    "- $h_{i+1,i}=\\left \\| w \\right \\|_{2}$\n",
    "- **If** $h_{i+1,i} \\neq 0$ : $u_{i+1}=w/h_{i+1,i}$\n",
    "- Minimize for $y_{i}$ : $\\left \\| \\beta e_{1} - h y_{i}\\right \\|$. Where $\\beta e_{1}=\\left [ \\left \\| r \\right \\|_{2} \\: 0 \\: 0 ... 0 \\right ]^{T}$\n",
    "- $x_{i}=x_{0}+u_{i}y_{i}$\n",
    "3. Stop the iteration when :\n",
    "$\\left \\| r_{i} \\right \\| \\leq \\varepsilon $.\n",
    "Where, e.g., $\\varepsilon = 1e-8$\n",
    "- End"
   ]
  },
  {
   "cell_type": "code",
   "execution_count": 6,
   "metadata": {},
   "outputs": [],
   "source": [
    "def GMRES(A,b,x0,N,e):\n",
    "  r=np.copy(b)-np.asarray(np.dot(A,x0)).reshape(-1)\n",
    "  x=[]\n",
    "  x.append(x0)\n",
    "  u=[0]*(N)  # u=[0,0,...,0]\n",
    "  u[0]=r/np.linalg.norm(r,ord=2)\n",
    "  h=np.zeros((N+1,N))\n",
    "  for i in range(N):\n",
    "    w=np.asarray(np.dot(A,u[i])).reshape(-1)\n",
    "    if np.linalg.norm(w)<=e:\n",
    "        break\n",
    "    for j in range(i):\n",
    "        h[j,i]=np.dot(u[j],w)\n",
    "        w=w-h[j,i]*u[j]\n",
    "    if np.linalg.norm(w)<=e:\n",
    "        break\n",
    "    h[i+1,i]=np.linalg.norm(w,ord=2)\n",
    "    if (h[i+1,i]!=0 and i!=N-1):\n",
    "      u[i+1]=w/h[i+1,i]\n",
    "    # calcul of beta*e1\n",
    "    beta=np.zeros(N+1)\n",
    "    beta[0]=np.linalg.norm(r,ord=2)\n",
    "    # Minimize for y\n",
    "    y=np.linalg.lstsq(h,beta,rcond=-1)[0]\n",
    "    xN=x0+np.dot(np.asarray(u).transpose(),y)\n",
    "    x.append(xN)\n",
    "  return x,i"
   ]
  },
  {
   "cell_type": "markdown",
   "metadata": {},
   "source": [
    "### Test"
   ]
  },
  {
   "cell_type": "code",
   "execution_count": 47,
   "metadata": {},
   "outputs": [
    {
     "name": "stdout",
     "output_type": "stream",
     "text": [
      "The GMRES algorithm converges in  29  iterations\n",
      "[1.38461375 0.53845889]\n"
     ]
    }
   ],
   "source": [
    "A=np.matrix('1. 3.;3. -4.')\n",
    "b=np.array([3.,2.])\n",
    "x0=np.array([0.,0.])  \n",
    "x,i=GMRES(A,b,x0,50,1e-5)\n",
    "print(\"The GMRES algorithm converges in \",i+1,\" iterations\")\n",
    "#print(x)\n",
    "print(x[i])"
   ]
  },
  {
   "cell_type": "markdown",
   "metadata": {
    "id": "4JeaOk_spLFK"
   },
   "source": [
    "## The Bi-Conjugate Gradient Stabilized Method (BICGSTAB) algorithm\n",
    "\n",
    "1. Set $x_{0}$, $r_{0}=b-Ax_{0}$, $p_{0}=r_{0}$ and $\\overline{r}_{0}$ such that $r_{0}.\\overline{r}_{0} \\neq 0$\n",
    "2. **for** $i=1,2,...,N$\n",
    "- $\\alpha_{i}=\\frac{\\left \\langle r_{i} , \\overline{r}_{0} \\right \\rangle}{\\left \\langle A p_{i},\\overline{r}_{0} \\right \\rangle}$ \n",
    "- $s_{i}=r_{i}-\\alpha_{i}A p_{i}$\n",
    "- **If** $\\left \\| s_{i} \\right \\| \\leq \\varepsilon $ : \n",
    "  - $x_{i+1}=x_{i}+\\alpha_{i}p_{i}$\n",
    "  - **Break**\n",
    "- **End If**\n",
    "- $\\omega_{i}=\\frac{\\left \\langle As_{i} , s_{i} \\right \\rangle}{\\left \\langle A s_{i},As_{i} \\right \\rangle}$ \n",
    "- $x_{i+1}=x_{i}+\\alpha_{i}p_{i}+\\omega_{i}s_{i}$\n",
    "- $r_{i+1}=s_{i}-\\omega_{i}As_{i}$\n",
    "- **If** $\\left \\| r_{i+1} \\right \\| \\leq \\varepsilon $ : \n",
    "  - **Break**\n",
    "- **End If**\n",
    "- $\\beta_{i}=\\frac{\\alpha_{i}}{\\omega_{i}} \\frac{\\left \\langle r_{i+1} , \\overline{r}_{0} \\right \\rangle}{\\left \\langle r_{i},\\overline{r}_{0} \\right \\rangle}$\n",
    "- $p_{i+1}=r_{i+1}+\\beta_{i}(p_{i}-\\omega_{i}Ap_{i})$\n",
    "- **End for**\n",
    "3. $x=x_{i+1}$"
   ]
  },
  {
   "cell_type": "code",
   "execution_count": 8,
   "metadata": {
    "id": "pcbMotA3pbGl"
   },
   "outputs": [],
   "source": [
    "def BICGSTAB(A,b,x0,N,e):\n",
    "  r=np.copy(b)-np.asarray(np.dot(A,x0)).reshape(-1)\n",
    "  rbar=np.copy(b)\n",
    "  p=np.copy(r)\n",
    "  x=[]\n",
    "  x.append(x0)\n",
    "  for i in range(N):\n",
    "    Ap=np.asarray(np.dot(A,p)).reshape(-1)\n",
    "    alpha=np.dot(r,rbar)/np.dot(Ap,rbar)\n",
    "    s=r-alpha*Ap\n",
    "    if np.linalg.norm(s)<=e:\n",
    "        x0=x0+alpha*p\n",
    "        break\n",
    "    As=np.asarray(np.dot(A,s)).reshape(-1)\n",
    "    Omega=np.dot(As,s)/np.dot(As,As)\n",
    "    x0=x0+alpha*p+Omega*s\n",
    "    r=s-Omega*As\n",
    "    beta=(alpha/Omega)/np.dot(r,rbar)\n",
    "    if np.linalg.norm(r)<=e:\n",
    "        break\n",
    "    beta=beta*np.dot(r,rbar)\n",
    "    p=r+beta*(p-Omega*Ap) \n",
    "    x.append(x0)\n",
    "  return x,i"
   ]
  },
  {
   "cell_type": "markdown",
   "metadata": {},
   "source": [
    "### Test"
   ]
  },
  {
   "cell_type": "code",
   "execution_count": 48,
   "metadata": {},
   "outputs": [
    {
     "name": "stdout",
     "output_type": "stream",
     "text": [
      "The BICGSTAB algorithm converges in  6  iterations\n",
      "x= [1.38461539 0.53846154]\n"
     ]
    }
   ],
   "source": [
    "A=np.matrix('1. 3.;3. -4.')\n",
    "b=np.array([3.,2.])\n",
    "x0=np.array([0.,0.])  \n",
    "x,i=BICGSTAB(A,b,x0,50,1e-8)\n",
    "print(\"The BICGSTAB algorithm converges in \",i+1,\" iterations\")   \n",
    "#print('x=',x)\n",
    "print('x=',x[i])"
   ]
  },
  {
   "cell_type": "markdown",
   "metadata": {},
   "source": [
    "## The Symmetric Lanczos Algorithm\n",
    "\n",
    "1. Set $x_{0}$, $r_{0}=b-Ax_{0}$ and $v_{0}=\\frac{r_{0}}{\\beta_{0}}$, $\\beta_{0}=\\left \\| r_{0} \\right \\|_{2}$\n",
    "2. **for** $i=1,2,...,m$\n",
    "- $w=Au_{i}-\\beta_{i}v_{i-1}$ \n",
    "- $\\alpha_{i}=\\left \\langle w , v_{i} \\right \\rangle$\n",
    "- $w=w-\\alpha_{i}v_{i}$\n",
    "- $\\beta_{i+1}=\\left \\| w \\right \\|_{2}$\n",
    "- **If** $\\beta_{i+1} \\neq 0$ : $v_{i+1}=w/\\beta_{i+1}$\n",
    "- **End for** \n",
    "- $y_{m}=\\beta T_{m}^{-1}e_{1}$ and $x_{m}=x_{0}+V_{m}y_{m}$."
   ]
  },
  {
   "cell_type": "code",
   "execution_count": 13,
   "metadata": {},
   "outputs": [],
   "source": [
    "def Symmetric_Lanczos(A,b,x0,m):\n",
    "  r=b-np.dot(A,x0)\n",
    "  betha=np.linalg.norm(r)\n",
    "  v=r/betha\n",
    "  V=np.zeros([m,b.size])\n",
    "  V[0,:]=v\n",
    "  a=np.zeros(m)\n",
    "  bi=np.zeros(m)\n",
    "  e1=np.zeros(m)\n",
    "  e1[0]=1\n",
    "  for j in range(m):\n",
    "    w=A.dot(V[j,:])-bi[j]*V[j-1,:]\n",
    "    a[j]=w.dot(V[j,:])\n",
    "    w=w-a[j]*V[j,:]\n",
    "    B=np.linalg.norm(w,ord=2)\n",
    "    if (B==0) or (j==m-1):\n",
    "        break\n",
    "    bi[j+1]=B\n",
    "    V[j+1,:]=w/B\n",
    "  Tm=np.diag(a)+np.diag(bi[1:],1)+np.diag(bi[1:],-1)\n",
    "  ym=betha*np.linalg.inv(Tm).dot(e1)\n",
    "  xm=x0+V.transpose().dot(ym)\n",
    "  return xm,j"
   ]
  },
  {
   "cell_type": "code",
   "execution_count": 49,
   "metadata": {},
   "outputs": [
    {
     "name": "stdout",
     "output_type": "stream",
     "text": [
      "The Symmetric Lanczos algorithm converges in  2  iterations\n",
      "x= [1.38461538 0.53846154]\n"
     ]
    }
   ],
   "source": [
    "A=np.matrix('1. 3.;3. -4.')\n",
    "b=np.array([3.,2.])\n",
    "x0=np.array([0.,0.])  \n",
    "x,i=Symmetric_Lanczos(A,b,x0,2)\n",
    "print(\"The Symmetric Lanczos algorithm converges in \",i+1,\" iterations\")   \n",
    "print('x=',x)"
   ]
  }
 ],
 "metadata": {
  "colab": {
   "collapsed_sections": [],
   "name": "Pr_Jbilo_HPC.ipynb",
   "provenance": [],
   "toc_visible": true
  },
  "kernelspec": {
   "display_name": "Python 3",
   "language": "python",
   "name": "python3"
  },
  "language_info": {
   "codemirror_mode": {
    "name": "ipython",
    "version": 3
   },
   "file_extension": ".py",
   "mimetype": "text/x-python",
   "name": "python",
   "nbconvert_exporter": "python",
   "pygments_lexer": "ipython3",
   "version": "3.8.5"
  }
 },
 "nbformat": 4,
 "nbformat_minor": 1
}
