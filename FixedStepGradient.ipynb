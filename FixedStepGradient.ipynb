{
 "cells": [
  {
   "cell_type": "markdown",
   "metadata": {},
   "source": [
    "# Gradient Method with Fixed Step (GF)"
   ]
  },
  {
   "cell_type": "markdown",
   "metadata": {},
   "source": [
    "## Imports"
   ]
  },
  {
   "cell_type": "code",
   "execution_count": 1,
   "metadata": {},
   "outputs": [],
   "source": [
    "import numpy as np"
   ]
  },
  {
   "cell_type": "markdown",
   "metadata": {},
   "source": [
    "## GF algorithm"
   ]
  },
  {
   "cell_type": "markdown",
   "metadata": {},
   "source": [
    ">- Choose an initial guess $u^{0} \\in \\mathbb{R}^{n}$ (e.g., $u^{0}=0$) and a fixed step $\\rho >0$. \n",
    ">- For $n=0,1,2,...$ compute :\n",
    ">  - The cost $J(u^{n})$ and Gradient $ \\nabla J\\left ( u^{n} \\right )$.\n",
    ">  - $u^{n+1}=u^{n}-\\rho \\nabla J\\left ( u^{n} \\right )$\n",
    ">- Stop the iteration when :\n",
    "$\\left \\| \\nabla J\\left ( u^{n} \\right ) \\right \\| \\leq \\varepsilon $.\n",
    "Where, e.g., $\\varepsilon = 1e-8$"
   ]
  },
  {
   "cell_type": "code",
   "execution_count": 2,
   "metadata": {},
   "outputs": [],
   "source": [
    "def GF(u, rho, NbrIter, epsJ, k):\n",
    "    \n",
    "    # u       : initial guess\n",
    "    # rho     : fixed step\n",
    "    # NbrIter : maximum number of iterations\n",
    "    # epsJ : stop condition for gradient\n",
    "    \n",
    "    # to save the cost values\n",
    "    #cost_history = np.zeros(NbrIter)\n",
    "    cost_history = []\n",
    "    \n",
    "    for n in range(0,NbrIter):\n",
    "        [J,gradJ]=cost(u,k)\n",
    "        \n",
    "        #cost_history[n]=J \n",
    "        cost_history.append(J)\n",
    "        \n",
    "        if np.linalg.norm(gradJ)<= epsJ :\n",
    "            break\n",
    "            \n",
    "        u=u-rho*gradJ\n",
    "        \n",
    "        \n",
    "    \n",
    "    return u, n, cost_history"
   ]
  },
  {
   "cell_type": "markdown",
   "metadata": {},
   "source": [
    "## Cost function"
   ]
  },
  {
   "cell_type": "markdown",
   "metadata": {},
   "source": [
    "$$\n",
    "J_{1}(v)=\\sum_{i=1}^{i=N}\\left(v_{i}-1\\right)^{2}, \\quad \\nabla _{i}(J_{1})= 2(v_{i}-1) \\Rightarrow \\nabla(J_{1})= 2(v-\\mathbb{1})$$ Where $\\mathbb{1}=(1,1,...1)$\n",
    "$$J_{2}(v)=\\sum_{i=1}^{i=N}\\left(v_{i}-i\\right)^{2}, \\quad \\nabla_{i}(J_{2})= 2(v_{i}-i) \\Rightarrow \\nabla(J_{2})= 2(v-\\gamma)$$\n",
    "Where $gamma=(1,2,...N)$  "
   ]
  },
  {
   "cell_type": "code",
   "execution_count": 3,
   "metadata": {},
   "outputs": [],
   "source": [
    "def J1(v):\n",
    "    N=len(v)\n",
    "    ones=np.ones(N)\n",
    "    return [np.dot(v-ones,v-ones), 2*(v-ones)]\n",
    "# np.dot(a,b) returns the sum product (a1*b1)+(a2*b2)+...\n",
    "\n",
    "def J2(v):\n",
    "    N=len(v)\n",
    "    gama=np.arange(1,N+1) # array([1,2,.....,N])\n",
    "    return [np.dot(v-gama,v-gama) , 2*(v-gama)]"
   ]
  },
  {
   "cell_type": "code",
   "execution_count": 4,
   "metadata": {},
   "outputs": [],
   "source": [
    "def cost(v,k):  # choose your cost function J1, J2\n",
    "    if k==1:\n",
    "        return J1(v)\n",
    "    if k==2:\n",
    "        return J2(v)"
   ]
  },
  {
   "cell_type": "markdown",
   "metadata": {},
   "source": [
    "## Test"
   ]
  },
  {
   "cell_type": "markdown",
   "metadata": {},
   "source": [
    "### Inputs"
   ]
  },
  {
   "cell_type": "code",
   "execution_count": 5,
   "metadata": {},
   "outputs": [],
   "source": [
    "N= 10 # try 10, 20, 40 ...\n",
    "u= np.zeros(N)\n",
    "rho = 0.25 # try 0.25, 0.3, 0.5, 1 ...\n",
    "eps = 1.e-10\n",
    "MaxIter = 1500"
   ]
  },
  {
   "cell_type": "markdown",
   "metadata": {},
   "source": [
    "### Outputs"
   ]
  },
  {
   "cell_type": "code",
   "execution_count": 6,
   "metadata": {},
   "outputs": [
    {
     "name": "stdout",
     "output_type": "stream",
     "text": [
      "J1, Convergence on : 36 iterations\n",
      "u = [1. 1. 1. 1. 1. 1. 1. 1. 1. 1.]\n",
      "Cost history : [10.0, 2.5, 0.625, 0.15625, 0.0390625, 0.009765625, 0.00244140625, 0.0006103515625, 0.000152587890625, 3.814697265625e-05, 9.5367431640625e-06, 2.384185791015625e-06, 5.960464477539062e-07, 1.4901161193847656e-07, 3.725290298461914e-08, 9.313225746154785e-09, 2.3283064365386963e-09, 5.820766091346741e-10, 1.4551915228366852e-10, 3.637978807091713e-11, 9.094947017729282e-12, 2.2737367544323206e-12, 5.684341886080801e-13, 1.4210854715202004e-13, 3.552713678800501e-14, 8.881784197001252e-15, 2.220446049250313e-15, 5.551115123125783e-16, 1.3877787807814457e-16, 3.469446951953614e-17, 8.673617379884035e-18, 2.168404344971009e-18, 5.421010862427522e-19, 1.3552527156068805e-19, 3.3881317890172014e-20, 8.470329472543003e-21, 2.117582368135751e-21]\n",
      "\n",
      "\n",
      "J2, Convergence on : 39 iterations\n",
      "u = [ 1.  2.  3.  4.  5.  6.  7.  8.  9. 10.]\n",
      "Cost history : [385.0, 96.25, 24.0625, 6.015625, 1.50390625, 0.3759765625, 0.093994140625, 0.02349853515625, 0.0058746337890625, 0.001468658447265625, 0.00036716461181640625, 9.179115295410156e-05, 2.294778823852539e-05, 5.736947059631348e-06, 1.434236764907837e-06, 3.5855919122695923e-07, 8.963979780673981e-08, 2.2409949451684952e-08, 5.602487362921238e-09, 1.4006218407303095e-09, 3.5015546018257737e-10, 8.753886504564434e-11, 2.1884716261411086e-11, 5.4711790653527714e-12, 1.3677947663381929e-12, 3.419486915845482e-13, 8.548717289613705e-14, 2.1371793224034263e-14, 5.342948306008566e-15, 1.3357370765021415e-15, 3.3393426912553537e-16, 8.348356728138384e-17, 2.087089182034596e-17, 5.21772295508649e-18, 1.3044307387716225e-18, 3.2610768469290563e-19, 8.152692117322641e-20, 2.0381730293306602e-20, 5.0954325733266505e-21, 1.2738581433316626e-21]\n",
      "\n",
      "\n"
     ]
    }
   ],
   "source": [
    "## J1\n",
    "uGF, iGF, costGF = GF(u,rho,MaxIter,eps,1)\n",
    "print('J1, Convergence on :' ,iGF, 'iterations');\n",
    "print('u =' ,uGF)\n",
    "print('Cost history :' ,costGF)\n",
    "print('\\n')\n",
    "\n",
    "## J2\n",
    "uGF, iGF, costGF = GF(u,rho,MaxIter,eps,2)\n",
    "print('J2, Convergence on :' ,iGF, 'iterations');\n",
    "print('u =' ,uGF)\n",
    "print('Cost history :' ,costGF)\n",
    "print('\\n')"
   ]
  }
 ],
 "metadata": {
  "kernelspec": {
   "display_name": "Python 3",
   "language": "python",
   "name": "python3"
  },
  "language_info": {
   "codemirror_mode": {
    "name": "ipython",
    "version": 3
   },
   "file_extension": ".py",
   "mimetype": "text/x-python",
   "name": "python",
   "nbconvert_exporter": "python",
   "pygments_lexer": "ipython3",
   "version": "3.8.5"
  }
 },
 "nbformat": 4,
 "nbformat_minor": 4
}
