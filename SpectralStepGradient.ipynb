{
 "cells": [
  {
   "cell_type": "markdown",
   "metadata": {
    "id": "kKiJgpXvf7A_"
   },
   "source": [
    "# Spectral Step Gradient Methods\n",
    "\n",
    "**by Amal MACHTALAY**  "
   ]
  },
  {
   "cell_type": "markdown",
   "metadata": {},
   "source": [
    "### Imports"
   ]
  },
  {
   "cell_type": "code",
   "execution_count": 1,
   "metadata": {},
   "outputs": [],
   "source": [
    "import numpy as np\n",
    "import matplotlib.pyplot as plt"
   ]
  },
  {
   "cell_type": "markdown",
   "metadata": {},
   "source": [
    "### Etape  1.\n",
    "\n",
    "Reprendre un algorithme de minimisation par gradient à pas variable (ou à pas constant) :\n",
    "\n",
    "\\begin{equation}\n",
    "u^{(0)} \\textrm{ donné}; \\quad u^{(k+1)} = u^{(k)} - \\rho_k \\nabla J(u^{(k)})\n",
    "\\end{equation}\n",
    "\n",
    "\n",
    "> Modifier cet algorithme de sorte à ce que le pas $\\rho_k$ soit donné par l'une des deux variantes, dites de Barzilaï et Borwein :\n",
    "\n",
    "$$\n",
    "\\rho^1_k = \\dfrac{(s^{(k-1)} ,s^{(k-1)})}{(y^{(k-1)} ,s^{(k-1)})} ;\n",
    "\\qquad \n",
    "\\rho^2_k = \\dfrac{(s^{(k-1)} ,y^{(k-1)})}{(y^{(k-1)} ,y^{(k-1)})}\n",
    "$$\n",
    "Cet algorithme (noté BB1 et BB2 selon variante) nécessite donc un pré-calcul de $u^{(1)}$ avec un pas initial $\\rho_0$ décidé par l'utilisateur."
   ]
  },
  {
   "cell_type": "markdown",
   "metadata": {},
   "source": [
    "On introduit les deux notations :\n",
    "\n",
    "$$ \\left\\{\n",
    "\\begin{array}{ccc}\n",
    "s^{(k-1)} & = & u^{(k)} - u^{(k-1)} \\\\\n",
    "y^{(k-1)} & = & \\nabla J(u^{(k)}) - \\nabla J(u^{(k-1)}) \\\\\n",
    " \\end{array}\n",
    "\\right.\n",
    "$$"
   ]
  },
  {
   "cell_type": "code",
   "execution_count": 2,
   "metadata": {},
   "outputs": [],
   "source": [
    "def BB1(u, rho, NbrIter, epsJ, j):\n",
    "    \n",
    "    # u       : initial guess\n",
    "    # rho     : initial step\n",
    "    # NbrIter : maximum number of iterations\n",
    "    # epsJ    : stop condition for gradient\n",
    "    # j       : index of the cost function\n",
    "    \n",
    "    U=[0]*(NbrIter)  # U=[u,0,....,0]\n",
    "    U[0]=u\n",
    "    # cost_history\n",
    "    cost_history=[]\n",
    "    # Gradient_history\n",
    "    gradJ=[0]*(NbrIter) # gradJ=[gradJ(u),0,....,0]\n",
    "    [J,gradJ[0]]=cost(j,U[0])\n",
    "    # step_history\n",
    "    Rho=[0]*(NbrIter) # Rho=[rho,0,....,0]\n",
    "    Rho[0]=rho\n",
    "    \n",
    "    for i in range(0,NbrIter-1):\n",
    "        cost_history.append(J)\n",
    "        \n",
    "        if np.linalg.norm(gradJ[i])<= epsJ :\n",
    "            break\n",
    "            \n",
    "        U[i+1]=U[i]-Rho[i]*gradJ[i]\n",
    "        [J,gradJ[i+1]]=cost(j,U[i+1])\n",
    "        \n",
    "        # Barzilai variant\n",
    "        s=U[i+1]-U[i]\n",
    "        y=gradJ[i+1]-gradJ[i]\n",
    "        Rho[i+1]=np.dot(s,s)/np.dot(y,s)\n",
    "    \n",
    "    return U, i, cost_history \n",
    "\n",
    "def BB2(u, rho, NbrIter, epsJ, j):\n",
    "    \n",
    "    # u       : initial guess\n",
    "    # rho     : initial step\n",
    "    # NbrIter : maximum number of iterations\n",
    "    # epsJ    : stop condition for gradient\n",
    "    # j       : index of the cost function\n",
    "    \n",
    "    U=[0]*(NbrIter)  # U=[u,0,....,0]\n",
    "    U[0]=u\n",
    "    # cost_history\n",
    "    cost_history=[]\n",
    "    # Gradient_history\n",
    "    gradJ=[0]*(NbrIter) # gradJ=[gradJ(u),0,....,0]\n",
    "    [J,gradJ[0]]=cost(j,U[0])\n",
    "    # step_history\n",
    "    Rho=[0]*(NbrIter) # Rho=[rho,0,....,0]\n",
    "    Rho[0]=rho\n",
    "    \n",
    "    for i in range(0,NbrIter-1):\n",
    "        cost_history.append(J)\n",
    "        if np.linalg.norm(gradJ[i])<= epsJ :\n",
    "            break\n",
    "            \n",
    "        U[i+1]=U[i]-Rho[i]*gradJ[i]\n",
    "        [J,gradJ[i+1]]=cost(j,U[i+1])\n",
    "\n",
    "        # Borwein variant\n",
    "        s=U[i+1]-U[i]\n",
    "        y=gradJ[i+1]-gradJ[i]\n",
    "        Rho[i+1]=np.dot(s,y)/np.dot(y,y)\n",
    "    \n",
    "    return U, i, cost_history\n",
    " "
   ]
  },
  {
   "cell_type": "markdown",
   "metadata": {},
   "source": [
    "### Etape 2.\n",
    "\n",
    "On considère les fonctions suivantes (en dimension $N$):\n",
    "\n",
    "$$J_1(v) = \\sum_{i=1}^{i=N}{(v_i - 1)^2}, \\quad J_2(v) = \\sum_{i=1}^{i=N}{(v_i - i)^2}$$ \n",
    "\n",
    "$$\n",
    "J_5(v) =\\frac{1}{2}(Av,v)-(f,v) + \\sum_{i=1}^{i=N}{(v_i)^2}, \\quad \\quad \\quad \n",
    "J_6(v) =\\frac{1}{2}(Av,v)-(f,v) + \\sum_{i=1}^{i=N}{(v_i)^4}\n",
    "$$\n",
    "\n",
    "avec $f=(1,\\ldots,1)$ et la matrice $A = {\\rm tridiag}[-1, 2, -1]$  \n",
    "\n",
    "La fonction de Rosenbrock :\n",
    "\n",
    "$$\n",
    "J_R(v) = \\sum_{i=1}^{N-1}(v_{i+1}-v_i^2)^2 + \\sum_{i=1}^{N-1} (v_i - 1)^2\n",
    "$$"
   ]
  },
  {
   "cell_type": "code",
   "execution_count": 3,
   "metadata": {},
   "outputs": [],
   "source": [
    "def J1(v):\n",
    "    N=len(v)\n",
    "    ones=np.ones(N)\n",
    "    return [np.dot(v-ones,v-ones), 2*(v-ones)]\n",
    "\n",
    "def J2(v):\n",
    "    N=len(v)\n",
    "    g=np.arange(1,N+1) # array([1,2,.....,N])\n",
    "    return [np.dot(v-g,v-g) , 2*(v-g)]\n",
    "\n",
    "def tridiag(n,x,y,z,k1=-1, k2=0, k3=1):\n",
    "    a = [x]*(n-abs(k1)) \n",
    "    b = [y]*(n-abs(k2)) \n",
    "    c = [z]*(n-abs(k3))\n",
    "    return np.diag(a, k1) + np.diag(b, k2) + np.diag(c, k3)\n",
    "\n",
    "def J5(v):\n",
    "    N=len(v)\n",
    "    f=np.ones(N)\n",
    "    A=tridiag(N,-1,2,-1)\n",
    "    J=0.5*np.dot(np.dot(A,v),v)-np.dot(f,v)+np.dot(v,v)\n",
    "    gradJ=-np.append(0,v[:-1])+np.multiply(v,2)-np.append(v[1:],0)-f+np.multiply(v,2)\n",
    "    return [J, gradJ]\n",
    "\n",
    "def J6(v):\n",
    "    N=len(v)\n",
    "    f=np.ones(N)\n",
    "    A=tridiag(N,-1,2,-1)\n",
    "    J=0.5*np.dot(np.dot(A,v),v)-np.dot(f,v)+np.sum(np.power(v,4))\n",
    "    gradJ=-np.append(0,v[:-1])+np.multiply(v,2)-np.append(v[1:],0)-f+np.multiply(np.power(v,3),4)\n",
    "    return [J, gradJ]\n",
    "\n",
    "def JR(v):\n",
    "    N=len(v)\n",
    "    f=np.ones(N-1)\n",
    "    w=v[1:]-v[:-1]**2\n",
    "    J=np.dot(w,w)+np.dot(v[:-1]-f,v[:-1]-f)\n",
    "    gradJ=np.zeros(N)\n",
    "    gradJ[0]=-4*v[0]*(v[1]-v[0]**2)+2*(v[0]-1)\n",
    "    gradJ[-1]=2*(v[-1]-v[-2]**2)\n",
    "    gradJ[1:-1]=-4*v[1:-1]*(v[2:]-v[1:-1]**2)+2*(v[1:-1]-v[:-2])+2*(v[1:-1]-np.ones(N-2))\n",
    "    return [J, gradJ]\n",
    "\n",
    "\n",
    "def cost(j,v):  # choose your cost function J1, J2, J5, J6, or JR \n",
    "    if j==1:\n",
    "        return J1(v)  \n",
    "    if j==2:\n",
    "        return J2(v)\n",
    "    if j==5:\n",
    "        return J5(v)  \n",
    "    if j==6:\n",
    "        return J6(v)\n",
    "    if j=='R':\n",
    "        return JR(v)"
   ]
  },
  {
   "cell_type": "markdown",
   "metadata": {},
   "source": [
    "### Etape 3.\n",
    "\n",
    "> Effectuer les tests de validation pour les fonctions quadratiques $J_1, J_2$ ($N=10$).\n"
   ]
  },
  {
   "cell_type": "code",
   "execution_count": 4,
   "metadata": {},
   "outputs": [
    {
     "name": "stdout",
     "output_type": "stream",
     "text": [
      "With BB1, convergence of J1 on : 2 iterations\n",
      "u = [1. 1. 1. 1. 1. 1. 1. 1. 1. 1.]\n",
      "cost_history : [10.0, 2.5, 0.0]\n",
      "\n",
      "\n",
      "With BB2, convergence of J1 on : 2 iterations\n",
      "u = [1. 1. 1. 1. 1. 1. 1. 1. 1. 1.]\n",
      "cost_history : [10.0, 2.5, 0.0]\n",
      "\n",
      "\n",
      "With BB1, convergence of J2 on : 2 iterations\n",
      "u = [ 1.  2.  3.  4.  5.  6.  7.  8.  9. 10.]\n",
      "cost_history : [385.0, 96.25, 0.0]\n",
      "\n",
      "\n",
      "With BB2, convergence of J2 on : 2 iterations\n",
      "u = [ 1.  2.  3.  4.  5.  6.  7.  8.  9. 10.]\n",
      "cost_history : [385.0, 96.25, 0.0]\n",
      "\n",
      "\n"
     ]
    },
    {
     "data": {
      "image/png": "[encoded data removed]",
      "text/plain": [
       "<Figure size 432x288 with 1 Axes>"
      ]
     },
     "metadata": {
      "needs_background": "light"
     },
     "output_type": "display_data"
    }
   ],
   "source": [
    "#### Inputs\n",
    "N= 10 \n",
    "u0= np.zeros(N)\n",
    "#u0=[-10]*(N)\n",
    "rho0 = 0.25\n",
    "eps = 1.e-10\n",
    "MaxIter = 100\n",
    "\n",
    "#### Outputs\n",
    "# For J1 using BB1\n",
    "uBB1, iBB1, costBB1 = BB1(u0,rho0,MaxIter,eps,1)\n",
    "print('With BB1, convergence of J1 on :' ,iBB1, 'iterations');\n",
    "print('u =' ,uBB1[iBB1])\n",
    "print('cost_history :' ,costBB1)\n",
    "print('\\n')\n",
    "\n",
    "# For J1 using BB2\n",
    "uBB2, iBB2, costBB2 = BB2(u0,rho0,MaxIter,eps,1)\n",
    "print('With BB2, convergence of J1 on :' ,iBB2, 'iterations');\n",
    "print('u =' ,uBB2[iBB2])\n",
    "print('cost_history :' ,costBB2)\n",
    "print('\\n')\n",
    "\n",
    "# For J2 using BB1\n",
    "vBB1, jBB1, CostBB1 = BB1(u0,rho0,MaxIter,eps,2)\n",
    "print('With BB1, convergence of J2 on :' ,jBB1, 'iterations');\n",
    "print('u =' ,vBB1[jBB1])\n",
    "print('cost_history :' ,CostBB1)\n",
    "print('\\n')\n",
    "\n",
    "# For J2 using BB2\n",
    "vBB2, jBB2, CostBB2 = BB2(u0,rho0,MaxIter,eps,2)\n",
    "print('With BB2, convergence of J2 on :' ,jBB2, 'iterations');\n",
    "print('u =' ,vBB2[jBB2])\n",
    "print('cost_history :' ,CostBB2)\n",
    "print('\\n')\n",
    "\n",
    "#### Plots\n",
    "plt.plot(np.arange(iBB1+1),costBB1,label='J1 with BB1')\n",
    "plt.plot(np.arange(iBB2+1),costBB2,'o',label='J1 with BB2')\n",
    "plt.plot(np.arange(jBB1+1),CostBB1,label='J2 with BB1')\n",
    "plt.plot(np.arange(jBB2+1),CostBB2,'o',label='J2 with BB2')\n",
    "plt.xlabel(\"iteration\")\n",
    "plt.ylabel(\"Cost function J\")\n",
    "plt.title('$J(u^{(k)})$ en fonction des itérations $k$')\n",
    "plt.legend()\n",
    "plt.grid()"
   ]
  },
  {
   "cell_type": "markdown",
   "metadata": {},
   "source": [
    "### Etape 4.\n",
    "\n",
    "> Minimiser les fonctions $J_5$, $J_6$  et $J_R$ par BB1 et par BB2 ($N=10, 20, 40, 80$), et comparer les performances de ces deux variantes.\n",
    "On tracera sur un même graphique les courbes BB1 et BB2 de $J(u^{(k)})$ en fonction des itérations $k$."
   ]
  },
  {
   "cell_type": "code",
   "execution_count": 5,
   "metadata": {},
   "outputs": [
    {
     "name": "stdout",
     "output_type": "stream",
     "text": [
      "With BB1, convergence of J5 on : 18 iterations\n",
      "u = [0.36602452 0.46409807 0.49036778 0.49737303 0.49912434 0.49912434\n",
      " 0.49737303 0.49036778 0.46409807 0.36602452]\n",
      "\n",
      "\n",
      "With BB2, convergence of J5 on : 19 iterations\n",
      "u = [0.36602452 0.46409807 0.49036778 0.49737303 0.49912434 0.49912434\n",
      " 0.49737303 0.49036778 0.46409807 0.36602452]\n",
      "\n",
      "\n"
     ]
    },
    {
     "data": {
      "image/png": "[encoded data removed]",
      "text/plain": [
       "<Figure size 432x288 with 1 Axes>"
      ]
     },
     "metadata": {
      "needs_background": "light"
     },
     "output_type": "display_data"
    }
   ],
   "source": [
    "#### Inputs\n",
    "N= 10 \n",
    "u0= np.zeros(N)\n",
    "rho0 = 0.25\n",
    "eps = 1.e-10\n",
    "MaxIter = 100\n",
    "\n",
    "#### Outputs\n",
    "# For J5 using BB1\n",
    "uBB1, iBB1, costBB1 = BB1(u0,rho0,MaxIter,eps,5)\n",
    "print('With BB1, convergence of J5 on :' ,iBB1, 'iterations');\n",
    "print('u =' ,uBB1[iBB1])\n",
    "#print('cost_history :' ,costBB1)\n",
    "print('\\n')\n",
    "\n",
    "# For J5 using BB2\n",
    "uBB2, iBB2, costBB2 = BB2(u0,rho0,MaxIter,eps,5)\n",
    "print('With BB2, convergence of J5 on :' ,iBB2, 'iterations');\n",
    "print('u =' ,uBB2[iBB2])\n",
    "#print('cost_history :' ,costBB2)\n",
    "print('\\n')\n",
    "\n",
    "#### Plots\n",
    "plt.plot(np.arange(iBB1+1),costBB1,label='J5 with BB1')\n",
    "plt.plot(np.arange(iBB2+1),costBB2,'o',label='J5 with BB2')\n",
    "plt.xlabel(\"iteration\")\n",
    "plt.ylabel(\"Cost function J\")\n",
    "plt.title('$J(u^{(k)})$ en fonction des itérations $k$')\n",
    "plt.legend()\n",
    "plt.grid()"
   ]
  },
  {
   "cell_type": "code",
   "execution_count": 6,
   "metadata": {},
   "outputs": [
    {
     "name": "stdout",
     "output_type": "stream",
     "text": [
      "With BB1, convergence of J6 on : 21 iterations\n",
      "u = [0.522072   0.61332607 0.62743683 0.62957732 0.62989402 0.62989402\n",
      " 0.62957732 0.62743683 0.61332607 0.522072  ]\n",
      "\n",
      "\n",
      "With BB2, convergence of J6 on : 19 iterations\n",
      "u = [0.522072   0.61332607 0.62743683 0.62957732 0.62989402 0.62989402\n",
      " 0.62957732 0.62743683 0.61332607 0.522072  ]\n",
      "\n",
      "\n"
     ]
    },
    {
     "data": {
      "image/png": "[encoded data removed]",
      "text/plain": [
       "<Figure size 432x288 with 1 Axes>"
      ]
     },
     "metadata": {
      "needs_background": "light"
     },
     "output_type": "display_data"
    }
   ],
   "source": [
    "#### Inputs\n",
    "N= 10\n",
    "u0= np.zeros(N)\n",
    "rho0 = 0.25\n",
    "eps = 1.e-10\n",
    "MaxIter = 100\n",
    "\n",
    "#### Outputs\n",
    "# For J6 using BB1\n",
    "vBB1, jBB1, CostBB1 = BB1(u0,rho0,MaxIter,eps,6)\n",
    "print('With BB1, convergence of J6 on :' ,jBB1, 'iterations');\n",
    "print('u =' ,vBB1[jBB1])\n",
    "#print('cost_history :' ,CostBB1)\n",
    "print('\\n')\n",
    "\n",
    "# For J6 using BB2\n",
    "vBB2, jBB2, CostBB2 = BB2(u0,rho0,MaxIter,eps,6)\n",
    "print('With BB2, convergence of J6 on :' ,jBB2, 'iterations');\n",
    "print('u =' ,vBB2[jBB2])\n",
    "#print('cost_history :' ,CostBB2)\n",
    "print('\\n')\n",
    "\n",
    "#### Plots\n",
    "plt.plot(np.arange(jBB1+1),CostBB1,label='J6 with BB1')\n",
    "plt.plot(np.arange(jBB2+1),CostBB2,label='J6 with BB2')\n",
    "plt.xlabel(\"iteration\")\n",
    "plt.ylabel(\"Cost function J\")\n",
    "plt.title('$J(u^{(k)})$ en fonction des itérations $k$')\n",
    "plt.legend()\n",
    "plt.grid()"
   ]
  },
  {
   "cell_type": "code",
   "execution_count": 7,
   "metadata": {},
   "outputs": [
    {
     "name": "stdout",
     "output_type": "stream",
     "text": [
      "With BB1, convergence of JR on : 66 iterations\n",
      "u = [1. 1. 1. 1. 1. 1. 1. 1. 1. 1.]\n",
      "\n",
      "\n",
      "With BB2, convergence of JR on : 74 iterations\n",
      "u = [1. 1. 1. 1. 1. 1. 1. 1. 1. 1.]\n",
      "\n",
      "\n"
     ]
    },
    {
     "data": {
      "image/png": "[encoded data removed]",
      "text/plain": [
       "<Figure size 432x288 with 1 Axes>"
      ]
     },
     "metadata": {
      "needs_background": "light"
     },
     "output_type": "display_data"
    }
   ],
   "source": [
    "#### Inputs\n",
    "N= 10 \n",
    "u0= np.zeros(N)\n",
    "rho0 = 0.25\n",
    "eps = 1.e-10\n",
    "MaxIter = 100\n",
    "\n",
    "#### Outputs\n",
    "# For JR using BB1\n",
    "wBB1, kBB1, ccostBB1 = BB1(u0,rho0,MaxIter,eps,'R')\n",
    "print('With BB1, convergence of JR on :' ,kBB1, 'iterations');\n",
    "print('u =' ,wBB1[kBB1])\n",
    "#print('cost_history :' ,ccostBB1)\n",
    "print('\\n')\n",
    "\n",
    "# For JR using BB2\n",
    "wBB2, kBB2, ccostBB2 = BB2(u0,rho0,MaxIter,eps,'R')\n",
    "print('With BB2, convergence of JR on :' ,kBB2, 'iterations');\n",
    "print('u =' ,wBB2[kBB2])\n",
    "#print('cost_history :' ,ccostBB2)\n",
    "print('\\n')\n",
    "\n",
    "#### Plots\n",
    "plt.plot(np.arange(kBB1+1),ccostBB1,label='JR with BB1')\n",
    "plt.plot(np.arange(kBB2+1),ccostBB2,label='JR with BB2')\n",
    "plt.xlabel(\"iteration\")\n",
    "plt.ylabel(\"Cost function J\")\n",
    "plt.title('$J(u^{(k)})$ en fonction des itérations $k$')\n",
    "plt.legend()\n",
    "plt.grid()"
   ]
  },
  {
   "cell_type": "markdown",
   "metadata": {},
   "source": [
    "## Conclusion \n",
    "\n",
    "- For strictly convex quadratic functions ($J_1,J_2$) the $BB1$ and $BB2$ methods are equivalent; they converge rapidly and the cost function decrease quasi-linearly.\n",
    "- For Non-convex functions, a stochastic behavior appeared and the cost function did not decrease monotonically.\n",
    "- $BB1$ and $BB2$ can be considered the best methods for solving strictly convex quadratic problems. However, it's not recommended for minimizing general (not necessarily quadratic) functions."
   ]
  }
 ],
 "metadata": {
  "colab": {
   "name": "mini_projet_optimisation.ipynb",
   "provenance": []
  },
  "kernelspec": {
   "display_name": "Python 3",
   "language": "python",
   "name": "python3"
  },
  "language_info": {
   "codemirror_mode": {
    "name": "ipython",
    "version": 3
   },
   "file_extension": ".py",
   "mimetype": "text/x-python",
   "name": "python",
   "nbconvert_exporter": "python",
   "pygments_lexer": "ipython3",
   "version": "3.8.5"
  },
  "toc": {
   "base_numbering": 1,
   "nav_menu": {},
   "number_sections": true,
   "sideBar": true,
   "skip_h1_title": false,
   "title_cell": "Table of Contents",
   "title_sidebar": "Contents",
   "toc_cell": false,
   "toc_position": {},
   "toc_section_display": true,
   "toc_window_display": false
  },
  "varInspector": {
   "cols": {
    "lenName": 16,
    "lenType": 16,
    "lenVar": 40
   },
   "kernels_config": {
    "python": {
     "delete_cmd_postfix": "",
     "delete_cmd_prefix": "del ",
     "library": "var_list.py",
     "varRefreshCmd": "print(var_dic_list())"
    },
    "r": {
     "delete_cmd_postfix": ") ",
     "delete_cmd_prefix": "rm(",
     "library": "var_list.r",
     "varRefreshCmd": "cat(var_dic_list()) "
    }
   },
   "types_to_exclude": [
    "module",
    "function",
    "builtin_function_or_method",
    "instance",
    "_Feature"
   ],
   "window_display": false
  }
 },
 "nbformat": 4,
 "nbformat_minor": 1
}
